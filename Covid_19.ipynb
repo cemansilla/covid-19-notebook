{
  "nbformat": 4,
  "nbformat_minor": 0,
  "metadata": {
    "language_info": {
      "name": "python",
      "codemirror_mode": {
        "name": "ipython",
        "version": 3
      },
      "version": "3.7.4-final"
    },
    "orig_nbformat": 2,
    "file_extension": ".py",
    "mimetype": "text/x-python",
    "name": "python",
    "npconvert_exporter": "python",
    "pygments_lexer": "ipython3",
    "version": 3,
    "kernelspec": {
      "name": "python37464bitf617232a6419432e9c847d3487807820",
      "display_name": "Python 3.7.4 64-bit"
    },
    "colab": {
      "name": "Covid-19.ipynb",
      "provenance": [],
      "include_colab_link": true
    }
  },
  "cells": [
    {
      "cell_type": "markdown",
      "metadata": {
        "id": "view-in-github",
        "colab_type": "text"
      },
      "source": [
        "<a href=\"https://colab.research.google.com/github/cemansilla/covid-19-notebook/blob/master/Covid_19.ipynb\" target=\"_parent\"><img src=\"https://colab.research.google.com/assets/colab-badge.svg\" alt=\"Open In Colab\"/></a>"
      ]
    },
    {
      "cell_type": "code",
      "metadata": {
        "id": "qzaVXjYgdAW1",
        "colab_type": "code",
        "colab": {
          "base_uri": "https://localhost:8080/",
          "height": 153
        },
        "outputId": "81a7676b-8821-4efe-9703-1c5add6b9a58"
      },
      "source": [
        "import pandas as pd\n",
        "\n",
        "data_global_raw_url = 'https://raw.githubusercontent.com/cemansilla/covid-19-notebook/master/server/data/global.json'\n",
        "df1 = pd.read_json(data_global_raw_url)\n",
        "\n",
        "print(df1.head())"
      ],
      "execution_count": 1,
      "outputs": [
        {
          "output_type": "stream",
          "text": [
            "  date_report  day  month  ...  geoid  country_code  pop_data_2018\n",
            "0  2020-04-04    4      4  ...     AF           AFG    3.71724e+07\n",
            "1  2020-04-03    3      4  ...     AF           AFG    3.71724e+07\n",
            "2  2020-04-02    2      4  ...     AF           AFG    3.71724e+07\n",
            "3  2020-04-01    1      4  ...     AF           AFG    3.71724e+07\n",
            "4  2020-03-31   31      3  ...     AF           AFG    3.71724e+07\n",
            "\n",
            "[5 rows x 10 columns]\n"
          ],
          "name": "stdout"
        }
      ]
    },
    {
      "cell_type": "code",
      "metadata": {
        "id": "H7PPBbpXdAW7",
        "colab_type": "code",
        "colab": {}
      },
      "source": [
        ""
      ],
      "execution_count": 0,
      "outputs": []
    }
  ]
}
{
  "nbformat": 4,
  "nbformat_minor": 0,
  "metadata": {
    "language_info": {
      "name": "python",
      "codemirror_mode": {
        "name": "ipython",
        "version": 3
      },
      "version": "3.7.4-final"
    },
    "orig_nbformat": 2,
    "file_extension": ".py",
    "mimetype": "text/x-python",
    "name": "python",
    "npconvert_exporter": "python",
    "pygments_lexer": "ipython3",
    "version": 3,
    "kernelspec": {
      "name": "python37464bitf617232a6419432e9c847d3487807820",
      "display_name": "Python 3.7.4 64-bit"
    },
    "colab": {
      "name": "Covid-19.ipynb",
      "provenance": [],
      "include_colab_link": true
    }
  },
  "cells": [
    {
      "cell_type": "markdown",
      "metadata": {
        "id": "view-in-github",
        "colab_type": "text"
      },
      "source": [
        "<a href=\"https://colab.research.google.com/github/cemansilla/covid-19-notebook/blob/master/Covid_19.ipynb\" target=\"_parent\"><img src=\"https://colab.research.google.com/assets/colab-badge.svg\" alt=\"Open In Colab\"/></a>"
      ]
    },
    {
      "cell_type": "code",
      "metadata": {
        "id": "qzaVXjYgdAW1",
        "colab_type": "code",
        "colab": {
          "base_uri": "https://localhost:8080/",
          "height": 153
        },
        "outputId": "81a7676b-8821-4efe-9703-1c5add6b9a58"
      },
      "source": [
        "import pandas as pd\n",
        "\n",
        "data_global_raw_url = 'https://raw.githubusercontent.com/cemansilla/covid-19-notebook/master/server/data/global.json'\n",
        "df1 = pd.read_json(data_global_raw_url)\n",
        "\n",
        "print(df1.head())"
      ],
      "execution_count": 2,
      "outputs": [
        {
          "output_type": "stream",
          "name": "stdout",
          "text": "date_report  day  month  year  cases  deaths countries_territories geoid  \\\n0  2020-04-04    4      4  2020      0       0           Afghanistan    AF   \n1  2020-04-03    3      4  2020     43       0           Afghanistan    AF   \n2  2020-04-02    2      4  2020     26       0           Afghanistan    AF   \n3  2020-04-01    1      4  2020     25       0           Afghanistan    AF   \n4  2020-03-31   31      3  2020     27       0           Afghanistan    AF   \n\n  country_code pop_data_2018  \n0          AFG   3.71724e+07  \n1          AFG   3.71724e+07  \n2          AFG   3.71724e+07  \n3          AFG   3.71724e+07  \n4          AFG   3.71724e+07  \n"
        }
      ]
    },
    {
      "cell_type": "code",
      "metadata": {
        "id": "H7PPBbpXdAW7",
        "colab_type": "code",
        "colab": {}
      },
      "source": [
        "data_countries_raw_url = 'https://raw.githubusercontent.com/cemansilla/covid-19-notebook/master/server/data/countries.json'\n",
        "df2 = pd.read_json(data_countries_raw_url)\n",
        "\n",
        "print(df2.head())"
      ],
      "execution_count": 3,
      "outputs": [
        {
          "output_type": "stream",
          "name": "stdout",
          "text": "0\n0  Afghanistan\n1      Albania\n2      Algeria\n3      Andorra\n4       Angola\n"
        }
      ]
    },
    {
      "cell_type": "code",
      "execution_count": null,
      "metadata": {},
      "outputs": [],
      "source": []
    }
  ]
}